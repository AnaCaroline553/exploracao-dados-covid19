# Análise básica da COVID-19 no Brasil
# Feito para praticar o uso básico de Python, pandas e matplotlib

# Importar as bibliotecas
import pandas as pd
import matplotlib.pyplot as plt

# Carregar os dados (o arquivo deve estar na mesma pasta do notebook)
df = pd.read_csv("covid_brasil.csv")

# Visualizar as primeiras linhas
print("Visualizando os dados:")
print(df.head())

# Agrupar casos por estado
casos_por_estado = df.groupby("estado")["casos"].sum()

# Criar gráfico de barras
casos_por_estado.plot(kind="bar", color="skyblue")
plt.title("Total de Casos por Estado")
plt.xlabel("Estado")
plt.ylabel("Número de Casos")
plt.tight_layout()
plt.show()
