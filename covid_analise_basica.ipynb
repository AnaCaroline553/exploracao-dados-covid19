# Análise básica da COVID-19 no Brasil
# Este notebook foi feito para praticar o uso básico de Python, pandas e matplotlib.

# Importar bibliotecas
import pandas as pd
import matplotlib.pyplot as plt

# Carregar os dados
df = pd.read_csv('covid_brasil.csv')
df.head()

# Ver a quantidade de casos por estado
casos_por_estado = df.groupby('estado')['casos'].sum()
casos_por_estado.plot(kind='bar', color='skyblue')
plt.title('Total de Casos por Estado')
plt.xlabel('Estado')
plt.ylabel('Número de Casos')
plt.show()
