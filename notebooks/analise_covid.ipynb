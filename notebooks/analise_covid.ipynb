# 📊 Análise da COVID-19 no Brasil
# Autor: Ana Caroline de Morais Pimentel

import pandas as pd
import matplotlib.pyplot as plt
import seaborn as sns

# ⚠️ Altere o caminho do CSV se necessário
df = pd.read_csv('https://covid.ourworldindata.org/data/owid-covid-data.csv')

# Filtra apenas dados do Brasil
df_brasil = df[df['location'] == 'Brazil']

# Mostra as primeiras linhas
print("Visualização inicial dos dados:")
display(df_brasil.head())

# Seleciona colunas principais
df_brasil = df_brasil[['date', 'new_cases', 'new_deaths', 'total_vaccinations']]
df_brasil['date'] = pd.to_datetime(df_brasil['date'])

# 📈 Gráfico de novos casos por dia
plt.figure(figsize=(12,5))
sns.lineplot(data=df_brasil, x='date', y='new_cases', label='Novos casos')
plt.title('Novos casos diários de COVID-19 no Brasil')
plt.xlabel('Data')
plt.ylabel('Casos')
plt.tight_layout()
plt.show()

# 📈 Gráfico de mortes
plt.figure(figsize=(12,5))
sns.lineplot(data=df_brasil, x='date', y='new_deaths', color='red', label='Novas mortes')
plt.title('Novas mortes diárias por COVID-19 no Brasil')
plt.xlabel('Data')
plt.ylabel('Mortes')
plt.tight_layout()
plt.show()

